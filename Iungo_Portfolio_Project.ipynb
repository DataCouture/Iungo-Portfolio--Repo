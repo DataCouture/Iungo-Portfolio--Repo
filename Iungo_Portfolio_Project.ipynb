{
 "cells": [
  {
   "cell_type": "code",
   "execution_count": 4,
   "id": "2ff77ff9",
   "metadata": {},
   "outputs": [
    {
     "name": "stdout",
     "output_type": "stream",
     "text": [
      "Collecting requests\n",
      "  Downloading requests-2.32.4-py3-none-any.whl (64 kB)\n",
      "\u001b[2K     \u001b[90m━━━━━━━━━━━━━━━━━━━━━━━━━━━━━━━━━━━━━━━━\u001b[0m \u001b[32m64.8/64.8 kB\u001b[0m \u001b[31m2.8 MB/s\u001b[0m eta \u001b[36m0:00:00\u001b[0m\n",
      "\u001b[?25hCollecting charset_normalizer<4,>=2\n",
      "  Downloading charset_normalizer-3.4.2-cp311-cp311-macosx_10_9_universal2.whl (198 kB)\n",
      "\u001b[2K     \u001b[90m━━━━━━━━━━━━━━━━━━━━━━━━━━━━━━━━━━━━━━━\u001b[0m \u001b[32m198.8/198.8 kB\u001b[0m \u001b[31m9.7 MB/s\u001b[0m eta \u001b[36m0:00:00\u001b[0m\n",
      "\u001b[?25hCollecting idna<4,>=2.5\n",
      "  Using cached idna-3.10-py3-none-any.whl (70 kB)\n",
      "Collecting urllib3<3,>=1.21.1\n",
      "  Downloading urllib3-2.5.0-py3-none-any.whl (129 kB)\n",
      "\u001b[2K     \u001b[90m━━━━━━━━━━━━━━━━━━━━━━━━━━━━━━━━━━━━━━\u001b[0m \u001b[32m129.8/129.8 kB\u001b[0m \u001b[31m12.9 MB/s\u001b[0m eta \u001b[36m0:00:00\u001b[0m\n",
      "\u001b[?25hCollecting certifi>=2017.4.17\n",
      "  Downloading certifi-2025.6.15-py3-none-any.whl (157 kB)\n",
      "\u001b[2K     \u001b[90m━━━━━━━━━━━━━━━━━━━━━━━━━━━━━━━━━━━━━━━\u001b[0m \u001b[32m157.7/157.7 kB\u001b[0m \u001b[31m8.1 MB/s\u001b[0m eta \u001b[36m0:00:00\u001b[0m\n",
      "\u001b[?25hInstalling collected packages: urllib3, idna, charset_normalizer, certifi, requests\n",
      "Successfully installed certifi-2025.6.15 charset_normalizer-3.4.2 idna-3.10 requests-2.32.4 urllib3-2.5.0\n",
      "\n",
      "\u001b[1m[\u001b[0m\u001b[34;49mnotice\u001b[0m\u001b[1;39;49m]\u001b[0m\u001b[39;49m A new release of pip available: \u001b[0m\u001b[31;49m22.3\u001b[0m\u001b[39;49m -> \u001b[0m\u001b[32;49m25.1.1\u001b[0m\n",
      "\u001b[1m[\u001b[0m\u001b[34;49mnotice\u001b[0m\u001b[1;39;49m]\u001b[0m\u001b[39;49m To update, run: \u001b[0m\u001b[32;49mpip3 install --upgrade pip\u001b[0m\n",
      "Note: you may need to restart the kernel to use updated packages.\n"
     ]
    }
   ],
   "source": [
    "pip install requests"
   ]
  },
  {
   "cell_type": "code",
   "execution_count": null,
   "id": "066c0beb",
   "metadata": {},
   "outputs": [],
   "source": [
    "# Imports \n",
    "\n",
    "import requests\n",
    "import pandas as pd\n",
    "import json"
   ]
  },
  {
   "cell_type": "code",
   "execution_count": null,
   "id": "b0a3453f",
   "metadata": {},
   "outputs": [
    {
     "name": "stdout",
     "output_type": "stream",
     "text": [
      "   OBJECTID siteNo           location  SiteID  Easting  Northing Current_  \\\n",
      "0         1      1   Withywood School       1   356434    167823       No   \n",
      "1         2     B1     Colston Avenue       2   358628    173011      Yes   \n",
      "2         3    B10      Blackboy Hill       3   357448    174650      Yes   \n",
      "3         4    B11        Three Lamps       4   359903    171850      Yes   \n",
      "4         5    B12  Bedminster Parade       5   358723    171704      Yes   \n",
      "\n",
      "  pollutants  InstrumentID Exposure  ...  DateStart  DateEnd Colocated  \\\n",
      "0    BTX NO2             1       No  ...        NaN      NaN       NaN   \n",
      "1        NO2             1       No  ...        NaN      NaN       NaN   \n",
      "2        NO2             1      Yes  ...        NaN      NaN       NaN   \n",
      "3        NO2             1       No  ...        NaN      NaN       NaN   \n",
      "4        NO2             1      Yes  ...        NaN      NaN       NaN   \n",
      "\n",
      "  Duplicate_Triplicate obstruction_m  obstruction_lt  inlet_flow_clear  \\\n",
      "0                                NaN              No                No   \n",
      "1                                2.0              No               Yes   \n",
      "2                                1.0             Yes                No   \n",
      "3                                4.0              No               Yes   \n",
      "4                                1.0             Yes                No   \n",
      "\n",
      "   junction_m longitude   latitude  \n",
      "0         NaN -2.627749  51.407746  \n",
      "1         1.0 -2.596814  51.454557  \n",
      "2        32.0 -2.613994  51.469205  \n",
      "3         1.0 -2.578333  51.444210  \n",
      "4        96.0 -2.595294  51.442812  \n",
      "\n",
      "[5 rows x 34 columns]\n"
     ]
    }
   ],
   "source": [
    "\n",
    "import requests\n",
    "import pandas as pd\n",
    "\n",
    "# PART 1: 1.EXTRACT\n",
    "# API endpoint for GeoJSON\n",
    "api_url = \"https://maps2.bristol.gov.uk/server2/rest/services/ext/air_quality/MapServer/0/query?outFields=*&where=1%3D1&f=geojson\"\n",
    "\n",
    "\n",
    "#took help from AI here to figure out try and except feature to handle exceptions\n",
    "try:\n",
    "    # Send request to API\n",
    "    response = requests.get(api_url)\n",
    "    response.raise_for_status()  # Uncomment for better error reporting\n",
    "    data = response.json()\n",
    "\n",
    "    # Extract features\n",
    "    features = data.get(\"features\", [])\n",
    "\n",
    "    # Create records with properties and coordinates\n",
    "    records = []\n",
    "    for feature in features:\n",
    "        props = feature[\"properties\"]\n",
    "        coords = feature[\"geometry\"][\"coordinates\"]\n",
    "        props[\"longitude\"] = coords[0]\n",
    "        props[\"latitude\"] = coords[1]\n",
    "        records.append(props)\n",
    "\n",
    "    # Convert to DataFrame\n",
    "    df = pd.DataFrame(records)\n",
    "    print(df.head())\n",
    "\n",
    "except requests.exceptions.RequestException as e:\n",
    "    print(\"API request failed:\", e)\n",
    "\n",
    "#converted the data to CSV to open in excel to understand the Data, what are the coloums and what this Data means \n",
    "df. to_csv(\"air_quality_data.csv\")"
   ]
  },
  {
   "cell_type": "code",
   "execution_count": null,
   "id": "63ed215d",
   "metadata": {},
   "outputs": [],
   "source": [
    "#Part 1 : 2.TRANSFORM \n",
    "\n",
    "# Normalize the Data - define the normalize function \n",
    "# and then use it to normalise data \n",
    "#In anticipation of the loaded data eventually being used by Data Scientists and Analysts,\n",
    "# the coordinates of each record need to be normalised to values between 0 and 1, this will\n",
    "# mitigate the latitude values taking precedence over the longitude values in potential\n",
    "# machine learning applications.\n",
    "# Create a function from first principles that normalises a given value between 0 and 1.\n",
    "# Write at least two assertion tests for this function to ensure it works as intended before\n",
    "# you run the full application.\n",
    "\n",
    "# why are we Normalizing the Latitudes & longitudes? \n",
    "# Normalization rescales values (like latitude and longitude) to a 0–1 range so that no variable dominates due to larger raw numbers, ensuring fair comparison in analysis or machine learning.\n",
    "\n",
    "def normalise (value, min_value, max_value):\n",
    "    if max_value == min_value:\n",
    "        raise ValueError(\"min_value and max_value cannot be the same.\")\n",
    "    return (value - min_value) / (max_value - min_value)\n",
    "\n",
    "\n"
   ]
  }
 ],
 "metadata": {
  "kernelspec": {
   "display_name": "Python 3",
   "language": "python",
   "name": "python3"
  },
  "language_info": {
   "codemirror_mode": {
    "name": "ipython",
    "version": 3
   },
   "file_extension": ".py",
   "mimetype": "text/x-python",
   "name": "python",
   "nbconvert_exporter": "python",
   "pygments_lexer": "ipython3",
   "version": "3.11.0"
  }
 },
 "nbformat": 4,
 "nbformat_minor": 5
}
